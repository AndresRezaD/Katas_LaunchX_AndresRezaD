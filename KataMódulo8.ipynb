{
 "cells": [
  {
   "cell_type": "markdown",
   "metadata": {},
   "source": [
    "#Ejercicio 1: Creación de diccionarios de Python"
   ]
  },
  {
   "cell_type": "markdown",
   "metadata": {},
   "source": [
    "1.Crear un diccionario"
   ]
  },
  {
   "cell_type": "code",
   "execution_count": null,
   "metadata": {},
   "outputs": [],
   "source": [
    "planet = {\n",
    "    'name' : 'Mars'\n",
    "    'moons' : 2\n",
    "}"
   ]
  },
  {
   "cell_type": "markdown",
   "metadata": {},
   "source": [
    "2.Recuperar valores"
   ]
  },
  {
   "cell_type": "code",
   "execution_count": null,
   "metadata": {},
   "outputs": [],
   "source": [
    "planet = {\n",
    "    'name': 'Mars',\n",
    "    'moons': 2\n",
    "}\n",
    "print(\"Nombre del planeta: \", planet['name'])\n",
    "print(\"Lunas con las que cuenta el planeta: \", planet['moons'])"
   ]
  },
  {
   "cell_type": "markdown",
   "metadata": {},
   "source": [
    "3.Actualizar datos"
   ]
  },
  {
   "cell_type": "code",
   "execution_count": null,
   "metadata": {},
   "outputs": [],
   "source": [
    "planet = {\n",
    "    'name': 'Mars',\n",
    "    'moons': 2\n",
    "}\n",
    "planet['Circunferencia Km'] = {\n",
    "    'polar' : 6752\n",
    "    'equatorial': 6792\n",
    "}"
   ]
  },
  {
   "cell_type": "markdown",
   "metadata": {},
   "source": [
    "4.Impresión con datos actualizados"
   ]
  },
  {
   "cell_type": "code",
   "execution_count": null,
   "metadata": {},
   "outputs": [],
   "source": [
    "planet = {\n",
    "    'name': 'Mars',\n",
    "    'moons': 2\n",
    "}\n",
    "planet['Circunferencia Km'] = {\n",
    "    'polar' : 6752,\n",
    "    'equatorial': 6792\n",
    "}\n",
    "\n",
    "print(f\"\"\"Nombre del planeta: {planet['name']} \n",
    "Circunferencia polar: {planet['Circunferencia Km']['polar']}\n",
    "\"\"\")"
   ]
  },
  {
   "cell_type": "markdown",
   "metadata": {},
   "source": [
    "#Ejercicio 2: Programación dinámica con diccionarios"
   ]
  },
  {
   "cell_type": "markdown",
   "metadata": {},
   "source": [
    "1.Datos "
   ]
  },
  {
   "cell_type": "code",
   "execution_count": null,
   "metadata": {},
   "outputs": [],
   "source": [
    "planet_moons = {\n",
    "'mercury' : 0,\n",
    "'venus' : 0,\n",
    "'earth' : 1,\n",
    "'mars' : 2,\n",
    "'jupiter' : 79,\n",
    "'saturn' : 82,\n",
    "'uranus' : 27,\n",
    "'neptune' : 14,\n",
    "'pluto' : 5,\n",
    "'haumea' : 2,\n",
    "'makemake' : 1,\n",
    "'eris' : 1\n",
    "}"
   ]
  },
  {
   "cell_type": "markdown",
   "metadata": {},
   "source": [
    "2.Almacenamiento de datos"
   ]
  },
  {
   "cell_type": "code",
   "execution_count": null,
   "metadata": {},
   "outputs": [],
   "source": [
    "planet_moons = {\n",
    "'mercury' : 0,\n",
    "'venus' : 0,\n",
    "'earth' : 1,\n",
    "'mars' : 2,\n",
    "'jupiter' : 79,\n",
    "'saturn' : 82,\n",
    "'uranus' : 27,\n",
    "'neptune' : 14,\n",
    "'pluto' : 5,\n",
    "'haumea' : 2,\n",
    "'makemake' : 1,\n",
    "'eris' : 1\n",
    "}\n",
    "\n",
    "planets = len(planet_moons.keys())\n",
    "moons = planet_moons.values()"
   ]
  },
  {
   "cell_type": "markdown",
   "metadata": {},
   "source": [
    "3.Conteo de lunas"
   ]
  },
  {
   "cell_type": "code",
   "execution_count": null,
   "metadata": {},
   "outputs": [],
   "source": [
    "planet_moons = {\n",
    "'mercury' : 0,\n",
    "'venus' : 0,\n",
    "'earth' : 1,\n",
    "'mars' : 2,\n",
    "'jupiter' : 79,\n",
    "'saturn' : 82,\n",
    "'uranus' : 27,\n",
    "'neptune' : 14,\n",
    "'pluto' : 5,\n",
    "'haumea' : 2,\n",
    "'makemake' : 1,\n",
    "'eris' : 1\n",
    "}\n",
    "\n",
    "planets = len(planet_moons.keys())\n",
    "moons = planet_moons.values()\n",
    "\n",
    "total_moons = 0\n",
    "\n",
    "for value in planet_moons.values():\n",
    "    total_moons = total_moons + value \n",
    "\n",
    "avrg = total_moons / planets\n",
    "\n",
    "print(f'El promedio de lunas por planeta es: {avrg}')"
   ]
  }
 ],
 "metadata": {
  "interpreter": {
   "hash": "349eec5676f1deb3a5306a0d878f0f6286586189e21818e8d3d199e130d658a1"
  },
  "kernelspec": {
   "display_name": "Python 3.10.2 64-bit (windows store)",
   "language": "python",
   "name": "python3"
  },
  "language_info": {
   "codemirror_mode": {
    "name": "ipython",
    "version": 3
   },
   "file_extension": ".py",
   "mimetype": "text/x-python",
   "name": "python",
   "nbconvert_exporter": "python",
   "pygments_lexer": "ipython3",
   "version": "3.10.2"
  },
  "orig_nbformat": 4
 },
 "nbformat": 4,
 "nbformat_minor": 2
}
