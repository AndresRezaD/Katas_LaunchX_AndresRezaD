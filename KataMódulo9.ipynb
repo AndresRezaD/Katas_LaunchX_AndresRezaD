{
 "cells": [
  {
   "cell_type": "markdown",
   "metadata": {},
   "source": [
    "#Ejercicio 1: Trabajar con argumentos en funciones"
   ]
  },
  {
   "cell_type": "markdown",
   "metadata": {},
   "source": [
    "1.Código de almacenamiento"
   ]
  },
  {
   "cell_type": "code",
   "execution_count": 2,
   "metadata": {},
   "outputs": [],
   "source": [
    "def niveles_de_combustible(Tanque1, Tanque2, Tanque3):\n",
    "    promedio = (Tanque1 + Tanque2 + Tanque3)/3\n",
    "    return f\"\"\"Reporte:\n",
    "    Promedio: {promedio}%\n",
    "    Tanque 1: {Tanque1}%\n",
    "    Tanque 2: {Tanque2}%\n",
    "    Tanque 3: {Tanque3}%\n",
    "    \"\"\"\n"
   ]
  },
  {
   "cell_type": "markdown",
   "metadata": {},
   "source": [
    "2.Llamada a la función"
   ]
  },
  {
   "cell_type": "code",
   "execution_count": null,
   "metadata": {},
   "outputs": [],
   "source": [
    "def niveles_de_combustible(Tanque1, Tanque2, Tanque3):\n",
    "    promedio = (Tanque1 + Tanque2 + Tanque3)/3\n",
    "    return f\"\"\"Reporte:\n",
    "    Promedio: {promedio}%\n",
    "    Tanque 1: {Tanque1}%\n",
    "    Tanque 2: {Tanque2}%\n",
    "    Tanque 3: {Tanque3}%\n",
    "    \"\"\"\n",
    "print(niveles_de_combustible(100,90,50))"
   ]
  },
  {
   "cell_type": "markdown",
   "metadata": {},
   "source": [
    "3.Actualizar la función"
   ]
  },
  {
   "cell_type": "code",
   "execution_count": null,
   "metadata": {},
   "outputs": [],
   "source": [
    "def promedio (values):\n",
    "    suma = sum(values)\n",
    "    conteo = len(values)\n",
    "    return suma/conteo\n",
    "\n",
    "promedio([100,90,50])"
   ]
  },
  {
   "cell_type": "markdown",
   "metadata": {},
   "source": [
    "4.Llamada a la nueva función"
   ]
  },
  {
   "cell_type": "code",
   "execution_count": null,
   "metadata": {},
   "outputs": [],
   "source": [
    "def niveles_de_combustible(Tanque1, Tanque2, Tanque3):\n",
    "    return f\"\"\"Reporte:\n",
    "    Promedio: {promedio}%\n",
    "    Tanque 1: {Tanque1}%\n",
    "    Tanque 2: {Tanque2}%\n",
    "    Tanque 3: {Tanque3}%\n",
    "    \"\"\"\n",
    "promedio([100,90,50])"
   ]
  },
  {
   "cell_type": "markdown",
   "metadata": {},
   "source": [
    "#Ejercicio 2: trabajo con argumentos de palabras clave"
   ]
  },
  {
   "cell_type": "markdown",
   "metadata": {},
   "source": [
    "1.Funcion del informe"
   ]
  },
  {
   "cell_type": "code",
   "execution_count": null,
   "metadata": {},
   "outputs": [],
   "source": [
    "def informe (hora, tiempo, tank1, tank2, destino):\n",
    "    return f\"\"\"\n",
    "    Destino: {destino}\n",
    "    Tiempo necesario: {hora + tiempo} minutos\n",
    "    Niveles de combustible: {tank1 + tank2} litros\n",
    "    \"\"\"\n",
    "print(informe(9, 80, 100, 87, 'Marte'))\n"
   ]
  },
  {
   "cell_type": "markdown",
   "metadata": {},
   "source": [
    "2.Flexibilidad de args"
   ]
  },
  {
   "cell_type": "code",
   "execution_count": null,
   "metadata": {},
   "outputs": [],
   "source": [
    "def informe (destino, *minutos, **niveles_tanques):\n",
    "    return f\"\"\"\n",
    "    Destino: {destino}\n",
    "    Tiempo requerido: {sum(minutos)} minutos\n",
    "    Combustible: {sum(niveles_tanques.values())}\n",
    "    \"\"\"\n",
    "\n",
    "print(informe('Marte', 100,20, 30, tanque1=120, tanque2=120))"
   ]
  },
  {
   "cell_type": "markdown",
   "metadata": {},
   "source": [
    "3.Consideración de capacidad específica de tanque"
   ]
  },
  {
   "cell_type": "code",
   "execution_count": null,
   "metadata": {},
   "outputs": [],
   "source": [
    "def informe (destino, *minutos, **niveles_tanques):\n",
    "    return f\"\"\"\n",
    "    Destino: {destino}\n",
    "    Tiempo requerido: {sum(minutos)} minutos\n",
    "    Combustible: {sum(niveles_tanques.values())}\n",
    "    \"\"\"\n",
    "    for name, litros in niveles_tanques.items():\n",
    "        tanques += f\"{name} tank, {litros} litros sobrantes\"\n",
    "print(informe('Marte', 100,20, 30, tanque1=120, tanque2=120))"
   ]
  }
 ],
 "metadata": {
  "interpreter": {
   "hash": "349eec5676f1deb3a5306a0d878f0f6286586189e21818e8d3d199e130d658a1"
  },
  "kernelspec": {
   "display_name": "Python 3.10.2 64-bit (windows store)",
   "language": "python",
   "name": "python3"
  },
  "language_info": {
   "codemirror_mode": {
    "name": "ipython",
    "version": 3
   },
   "file_extension": ".py",
   "mimetype": "text/x-python",
   "name": "python",
   "nbconvert_exporter": "python",
   "pygments_lexer": "ipython3",
   "version": "3.10.2"
  },
  "orig_nbformat": 4
 },
 "nbformat": 4,
 "nbformat_minor": 2
}
