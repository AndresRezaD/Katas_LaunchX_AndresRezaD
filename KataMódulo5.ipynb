{
 "cells": [
  {
   "cell_type": "markdown",
   "metadata": {},
   "source": [
    ##"Ejercicio 1: utilizar operadores aritméticos"
   ]
  },
  {
   "cell_type": "markdown",
   "metadata": {},
   "source": [
    "1. Variables de almacenamiento"
   ]
  },
  {
   "cell_type": "code",
   "execution_count": 1,
   "metadata": {},
   "outputs": [],
   "source": [
    "Planeta_1 = 149597870\n",
    "Planeta_2 = 778547200"
   ]
  },
  {
   "cell_type": "markdown",
   "metadata": {},
   "source": [
    "2. Cálculo"
   ]
  },
  {
   "cell_type": "code",
   "execution_count": null,
   "metadata": {},
   "outputs": [],
   "source": [
    "Planeta_1 = 149597870\n",
    "Planeta_2 = 778547200\n",
    "\n",
    "distancia = Planeta_2 - Planeta_1\n",
    "print(f\"\"\"La distancia entre los planetas es: {distancia} Kilómetros\n",
    "Es decir {distancia*0.621} Millas\n",
    "\"\"\")"
   ]
  },
  {
   "cell_type": "markdown",
   "metadata": {},
   "source": [
    ##"Ejercicio 2: convierte cadenas en números y usa valores absolutos"
   ]
  },
  {
   "cell_type": "markdown",
   "metadata": {},
   "source": [
    "1. Variables de entrada"
   ]
  },
  {
   "cell_type": "code",
   "execution_count": 7,
   "metadata": {},
   "outputs": [],
   "source": [
    "D1 = input(\"Ingresa la distancia del primer planeta: \")\n",
    "D2 = input(\"Ingresa la distancia del segundo planeta: \")"
   ]
  },
  {
   "cell_type": "markdown",
   "metadata": {},
   "source": [
    "2. Convertir cadena a número"
   ]
  },
  {
   "cell_type": "code",
   "execution_count": 8,
   "metadata": {},
   "outputs": [],
   "source": [
    "D1 = input(\"Ingresa la distancia del primer planeta: \")\n",
    "D2 = input(\"Ingresa la distancia del segundo planeta: \")\n",
    "Distance_1 = int(D1)\n",
    "Distance_2 = int(D2) "
   ]
  },
  {
   "cell_type": "markdown",
   "metadata": {},
   "source": [
    "3. Realizar el cálculo"
   ]
  },
  {
   "cell_type": "code",
   "execution_count": null,
   "metadata": {},
   "outputs": [],
   "source": [
    "D1 = input(\"Ingresa la distancia del primer planeta: \")\n",
    "D2 = input(\"Ingresa la distancia del segundo planeta: \")\n",
    "Distance_1 = int(D1)\n",
    "Distance_2 = int(D2) \n",
    "\n",
    "DBP = abs(Distance_2 - Distance_1)\n",
    "print(f\"\"\"La distancia entre los planetas es de: {DBP} KM \n",
    "Es decir: {DBP*0.612} Millas\"\"\")"
   ]
  }
 ],
 "metadata": {
  "interpreter": {
   "hash": "349eec5676f1deb3a5306a0d878f0f6286586189e21818e8d3d199e130d658a1"
  },
  "kernelspec": {
   "display_name": "Python 3.10.2 64-bit (windows store)",
   "language": "python",
   "name": "python3"
  },
  "language_info": {
   "codemirror_mode": {
    "name": "ipython",
    "version": 3
   },
   "file_extension": ".py",
   "mimetype": "text/x-python",
   "name": "python",
   "nbconvert_exporter": "python",
   "pygments_lexer": "ipython3",
   "version": "3.10.2"
  },
  "orig_nbformat": 4
 },
 "nbformat": 4,
 "nbformat_minor": 2
}
