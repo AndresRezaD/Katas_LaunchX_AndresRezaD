{
 "cells": [
  {
   "cell_type": "markdown",
   "metadata": {},
   "source": [
    "##Ejercicio 1: Crear y usar listas de Python"
   ]
  },
  {
   "cell_type": "markdown",
   "metadata": {},
   "source": [
    "1.Creación de Variables"
   ]
  },
  {
   "cell_type": "code",
   "execution_count": null,
   "metadata": {},
   "outputs": [],
   "source": [
    "planets = ['Mercurio', 'Venus', 'Marte', 'Tierra', 'Júpiter', 'Saturno', 'Urano', 'Neptuno']\n",
    "print(planets)"
   ]
  },
  {
   "cell_type": "markdown",
   "metadata": {},
   "source": [
    "2.Agregar un planeta (Plutón)"
   ]
  },
  {
   "cell_type": "code",
   "execution_count": null,
   "metadata": {},
   "outputs": [],
   "source": [
    "planets = ['Mercurio', 'Venus', 'Marte', 'Tierra', 'Júpiter', 'Saturno', 'Urano', 'Neptuno']\n",
    "planets.append('Plutón')\n",
    "print(planets)"
   ]
  },
  {
   "cell_type": "markdown",
   "metadata": {},
   "source": [
    "##Ejercicio 2: Trabajando con datos de una lista "
   ]
  },
  {
   "cell_type": "markdown",
   "metadata": {},
   "source": [
    "1.Crear lista"
   ]
  },
  {
   "cell_type": "code",
   "execution_count": null,
   "metadata": {},
   "outputs": [],
   "source": [
    "planets = ['Mercurio', 'Venus', 'Tierra', 'Marte', 'Júpiter', 'Saturno', 'Urano', 'Neptuno']\n"
   ]
  },
  {
   "cell_type": "markdown",
   "metadata": {},
   "source": [
    "2.Solicitud de nombre del planeta"
   ]
  },
  {
   "cell_type": "code",
   "execution_count": 6,
   "metadata": {},
   "outputs": [],
   "source": [
    "name = input(\"Ingrese el nombre del planeta (los nombres de planetas empiezan con mayúscula): \")"
   ]
  },
  {
   "cell_type": "markdown",
   "metadata": {},
   "source": [
    "3.Encontrar el planeta en la lista"
   ]
  },
  {
   "cell_type": "code",
   "execution_count": null,
   "metadata": {},
   "outputs": [],
   "source": [
    "planets = ['Mercurio', 'Venus', 'Tierra', 'Marte', 'Júpiter', 'Saturno', 'Urano', 'Neptuno']\n",
    "name = input(\"Ingrese el nombre del planeta (los nombres de planetas empiezan con mayúscula): \")\n",
    "list_place = planets.index(name)\n",
    "print(f\"\"\"El planeta que buscas se encuentra en el lugar: {list_place} de la lista \"\"\")"
   ]
  },
  {
   "cell_type": "markdown",
   "metadata": {},
   "source": [
    "4.Mostrar planetas más cercanos al sol"
   ]
  },
  {
   "cell_type": "code",
   "execution_count": null,
   "metadata": {},
   "outputs": [],
   "source": [
    "planets = ['Mercurio', 'Venus', 'Tierra', 'Marte', 'Júpiter', 'Saturno', 'Urano', 'Neptuno']\n",
    "name = input(\"Ingrese el nombre del planeta (los nombres de planetas empiezan con mayúscula): \")\n",
    "list_place = planets.index(name)\n",
    "print(f\"\"\"El planeta que buscas se encuentra en el lugar: {list_place} de la lista \"\"\")\n",
    "closest_planets_to_sun = planets[0:list_place]\n",
    "print(f\"\"\"Los planetas más cercanos al sol son: { closest_planets_to_sun}\"\"\")"
   ]
  },
  {
   "cell_type": "markdown",
   "metadata": {},
   "source": [
    "5. Mostrar planetas más lejanos al sol"
   ]
  },
  {
   "cell_type": "code",
   "execution_count": 25,
   "metadata": {},
   "outputs": [
    {
     "name": "stdout",
     "output_type": "stream",
     "text": [
      "El planeta que buscas se encuentra en el lugar: 2 de la lista \n",
      "Los planetas más cercanos al sol respecto al que ingresaste son: ['Mercurio', 'Venus']\n",
      "Los planetas más lejanos al sol con respecto al que ingresaste son ['Marte', 'Júpiter', 'Saturno', 'Urano', 'Neptuno']\n"
     ]
    }
   ],
   "source": [
    "planets = ['Mercurio', 'Venus', 'Tierra', 'Marte', 'Júpiter', 'Saturno', 'Urano', 'Neptuno']\n",
    "name = input(\"Ingrese el nombre del planeta (los nombres de planetas empiezan con mayúscula): \")\n",
    "\n",
    "list_place = planets.index(name)\n",
    "print(f\"\"\"El planeta que buscas se encuentra en el lugar: {list_place} de la lista \"\"\")\n",
    "\n",
    "closest_planets_to_sun = planets[0:list_place]\n",
    "print(f\"\"\"Los planetas más cercanos al sol respecto al que ingresaste son: { closest_planets_to_sun}\"\"\")\n",
    "\n",
    "farest_planets_from_sun = planets[(list_place+1):8]\n",
    "print(f\"\"\"Los planetas más lejanos al sol con respecto al que ingresaste son {farest_planets_from_sun}\"\"\")"
   ]
  }
 ],
 "metadata": {
  "interpreter": {
   "hash": "349eec5676f1deb3a5306a0d878f0f6286586189e21818e8d3d199e130d658a1"
  },
  "kernelspec": {
   "display_name": "Python 3.10.2 64-bit (windows store)",
   "language": "python",
   "name": "python3"
  },
  "language_info": {
   "codemirror_mode": {
    "name": "ipython",
    "version": 3
   },
   "file_extension": ".py",
   "mimetype": "text/x-python",
   "name": "python",
   "nbconvert_exporter": "python",
   "pygments_lexer": "ipython3",
   "version": "3.10.2"
  },
  "orig_nbformat": 4
 },
 "nbformat": 4,
 "nbformat_minor": 2
}
