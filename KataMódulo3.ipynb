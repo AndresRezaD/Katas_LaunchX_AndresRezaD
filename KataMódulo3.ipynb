{
 "cells": [
  {
   "cell_type": "markdown",
   "metadata": {},
   "source": [
    "Ejercicio 1: advertencias de velocidad"
   ]
  },
  {
   "cell_type": "code",
   "execution_count": 3,
   "metadata": {},
   "outputs": [
    {
     "name": "stdout",
     "output_type": "stream",
     "text": [
      "¡Cuidado un asteroide se acerca a gran velocidad!\n"
     ]
    }
   ],
   "source": [
    "Speed = 49\n",
    "if Speed > 25:\n",
    "    print(\"¡Cuidado un asteroide se acerca a gran velocidad!\")"
   ]
  },
  {
   "cell_type": "markdown",
   "metadata": {},
   "source": [
    "Ejercicio 2: Busca el rayo de luz"
   ]
  },
  {
   "cell_type": "code",
   "execution_count": 4,
   "metadata": {},
   "outputs": [
    {
     "name": "stdout",
     "output_type": "stream",
     "text": [
      "Lástima explorador, no hay nada que ver\n"
     ]
    }
   ],
   "source": [
    "Speed = 19\n",
    "if Speed > 20:\n",
    "    print(\"¡Disfruta el espectáculo de luces, un asteroide viaja cerca!\")\n",
    "elif Speed == 20:\n",
    "    print (\"¡Disfruta el espectáculo de luces, un asteroide viaja cerca!\")\n",
    "else:\n",
    "    print (\"Lástima explorador, no hay nada que ver\")"
   ]
  },
  {
   "cell_type": "markdown",
   "metadata": {},
   "source": [
    "Ejercicio 3: Uso de operadores and y or"
   ]
  },
  {
   "cell_type": "code",
   "execution_count": 16,
   "metadata": {},
   "outputs": [
    {
     "name": "stdout",
     "output_type": "stream",
     "text": [
      "Lástima explorer, no hay nada que ver aqui\n"
     ]
    }
   ],
   "source": [
    "Speed= 10\n",
    "Dimensions=12 \n",
    "\n",
    "if Speed > 25 and Dimensions > 25:\n",
    "    print(\"¡Alerta, un gran asteroide se acerca y la tierra corre peligro!\")\n",
    "elif Speed >= 20:\n",
    "    print(\"¡Busca el destello de luz en el cielo, un asteroide se acerca!\")\n",
    "elif Dimensions < 25:\n",
    "    print(\"Lástima explorer, no hay nada que ver aqui\")\n",
    "else:\n",
    "    print(\"Lástima explorer, no hay nada que ver aqui\")"
   ]
  }
 ],
 "metadata": {
  "interpreter": {
   "hash": "349eec5676f1deb3a5306a0d878f0f6286586189e21818e8d3d199e130d658a1"
  },
  "kernelspec": {
   "display_name": "Python 3.10.2 64-bit (windows store)",
   "language": "python",
   "name": "python3"
  },
  "language_info": {
   "codemirror_mode": {
    "name": "ipython",
    "version": 3
   },
   "file_extension": ".py",
   "mimetype": "text/x-python",
   "name": "python",
   "nbconvert_exporter": "python",
   "pygments_lexer": "ipython3",
   "version": "3.10.2"
  },
  "orig_nbformat": 4
 },
 "nbformat": 4,
 "nbformat_minor": 2
}
